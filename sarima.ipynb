{
 "cells": [
  {
   "cell_type": "code",
   "execution_count": 1,
   "metadata": {},
   "outputs": [],
   "source": [
    "import requests\n",
    "import time\n",
    "\n",
    "\n",
    "def getMassData(lastDay=1):\n",
    "    url = 'https://api.binance.com/api/v3/klines'\n",
    "    current_time = int(time.time() * 1000)\n",
    "    startDay = current_time - ((lastDay+1000) * 24 * 60 * 60 * 1000)\n",
    "    endDay = current_time - (lastDay * 24 * 60 * 60 * 1000)\n",
    "\n",
    "    params = {\n",
    "    'symbol': 'BTCUSDT',      # The trading pair you're interested in\n",
    "    'interval': '1d',         # 1-hour candlestick data (hourly prices)\n",
    "    'startTime': startDay,  # Data from 30 days ago\n",
    "    'endTime': endDay,    # Data until 20 days ago\n",
    "    }\n",
    "\n",
    "    response = requests.get(url, params=params)\n",
    "    data = response.json()\n",
    "\n",
    "    result=[]\n",
    "\n",
    "    for candle in data:\n",
    "        close_price = candle[4]\n",
    "        result.append(close_price)\n",
    "\n",
    "    return result"
   ]
  },
  {
   "cell_type": "code",
   "execution_count": 5,
   "metadata": {},
   "outputs": [],
   "source": [
    "import csv\n",
    "\n",
    "import pandas as pd\n",
    "\n",
    "data = getMassData()\n",
    "\n",
    "test_data = data[-10:]\n",
    "  \n",
    "train_data = data[:-10]\n",
    "\n",
    "\n",
    "df = pd.DataFrame(data)\n",
    "\n",
    "df.to_csv('data/massData.csv', index=False, header=False)"
   ]
  },
  {
   "cell_type": "code",
   "execution_count": 20,
   "metadata": {},
   "outputs": [
    {
     "name": "stdout",
     "output_type": "stream",
     "text": [
      "[28539.707808494368, 28149.808164341925, 27767.881572435646, 28350.584766295648, 28245.86766097462, 28229.689038804743, 28596.146069652885, 28629.223381387277, 29081.883632197452, 29175.360884236645]\n",
      "['28068.26000000', '28669.86000000', '29026.16000000', '28838.16000000', '29505.61000000', '28848.20000000', '28430.10000000', '27668.79000000', '27628.27000000', '27598.75000000']\n"
     ]
    }
   ],
   "source": [
    "import numpy as np\n",
    "import pandas as pd\n",
    "from statsmodels.tsa.statespace.sarimax import SARIMAX\n",
    "import matplotlib.pyplot as plt\n",
    "\n",
    "# Example data (replace with your actual data)\n",
    "data = train_data  # Replace with your data\n",
    "\n",
    "# Ensure the data is fully numeric and clean up any non-numeric entries\n",
    "# Convert data to a Pandas Series first\n",
    "df = pd.Series(data)\n",
    "\n",
    "# Attempt to convert all values to numeric, coercing non-numeric values to NaN\n",
    "df = pd.to_numeric(df, errors='coerce')\n",
    "\n",
    "# Drop any NaN values that were caused by non-numeric entries\n",
    "df = df.dropna()\n",
    "\n",
    "# Check if the conversion and cleaning worked\n",
    "if df.isnull().values.any():\n",
    "    raise ValueError(\"The data still contains non-numeric values after conversion.\")\n",
    "\n",
    "# Fit the SARIMAX model (adjust p, d, q, and seasonal parameters as needed)\n",
    "model = SARIMAX(df, order=(1, 1, 1), seasonal_order=(1, 1, 1, 12))  # Adjust the order if necessary\n",
    "model_fit = model.fit(disp=False)\n",
    "\n",
    "# Forecast the next 10 values\n",
    "forecast = model_fit.forecast(steps=10)\n",
    "\n",
    "# Print the forecasted values\n",
    "print(forecast.to_list())\n",
    "print(test_data)\n",
    "\n",
    "\n"
   ]
  },
  {
   "cell_type": "code",
   "execution_count": 26,
   "metadata": {},
   "outputs": [
    {
     "name": "stdout",
     "output_type": "stream",
     "text": [
      "471\n",
      "-520\n",
      "-1259\n",
      "-488\n",
      "-1260\n",
      "-619\n",
      "166\n",
      "961\n",
      "1453\n",
      "1577\n"
     ]
    }
   ],
   "source": [
    "forecast_list = forecast.to_list()\n",
    "\n",
    "\n",
    "list1 = [float(value) for value in forecast_list]\n",
    "list2 = [float(value) for value in test_data]\n",
    "\n",
    "\n",
    "for i in range(len(list1)):\n",
    "    print(int(list1[i]) - int(list2[i]))"
   ]
  }
 ],
 "metadata": {
  "kernelspec": {
   "display_name": "base",
   "language": "python",
   "name": "python3"
  },
  "language_info": {
   "codemirror_mode": {
    "name": "ipython",
    "version": 3
   },
   "file_extension": ".py",
   "mimetype": "text/x-python",
   "name": "python",
   "nbconvert_exporter": "python",
   "pygments_lexer": "ipython3",
   "version": "3.12.3"
  }
 },
 "nbformat": 4,
 "nbformat_minor": 2
}
