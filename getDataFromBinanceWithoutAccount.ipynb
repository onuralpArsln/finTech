{
 "cells": [
  {
   "cell_type": "markdown",
   "metadata": {},
   "source": [
    "<a href=\"https://colab.research.google.com/github/onuralpArsln/finTech/blob/main/getDataFromBinanceWithoutAccount.ipynb\" target=\"_parent\"><img src=\"https://colab.research.google.com/assets/colab-badge.svg\" alt=\"Open In Colab\"/></a>"
   ]
  },
  {
   "cell_type": "markdown",
   "metadata": {},
   "source": [
    "Gerekli Kütüphane yoksa yükle"
   ]
  },
  {
   "cell_type": "code",
   "execution_count": null,
   "metadata": {},
   "outputs": [],
   "source": [
    "!pip install python-binance -q"
   ]
  },
  {
   "cell_type": "markdown",
   "metadata": {},
   "source": [
    "Datayı hesap bilgilisi olmadan almak burası, ancak colabda çalışmama ihtimali yüksek bi sebepten dolayı colab istekleri yetkisiz gözüküyor"
   ]
  },
  {
   "cell_type": "code",
   "execution_count": 4,
   "metadata": {},
   "outputs": [],
   "source": [
    "import requests\n",
    "import time\n",
    "\n",
    "\n",
    "def getSevenDayData(lastDay=1):\n",
    "    url = 'https://api.binance.com/api/v3/klines'\n",
    "    current_time = int(time.time() * 1000)\n",
    "    startDay = current_time - ((lastDay+7) * 24 * 60 * 60 * 1000)\n",
    "    endDay = current_time - (lastDay * 24 * 60 * 60 * 1000)\n",
    "\n",
    "    params = {\n",
    "    'symbol': 'BTCUSDT',      # The trading pair you're interested in\n",
    "    'interval': '1h',         # 1-hour candlestick data (hourly prices)\n",
    "    'startTime': startDay,  # Data from 30 days ago\n",
    "    'endTime': endDay,    # Data until 20 days ago\n",
    "    }\n",
    "\n",
    "    response = requests.get(url, params=params)\n",
    "    data = response.json()\n",
    "\n",
    "    result=[]\n",
    "\n",
    "    for candle in data:\n",
    "        close_price = candle[4]\n",
    "        result.append(close_price)\n",
    "    \n",
    "    return result\n",
    "\n",
    "\n"
   ]
  },
  {
   "cell_type": "markdown",
   "metadata": {},
   "source": [
    "test et"
   ]
  },
  {
   "cell_type": "code",
   "execution_count": 5,
   "metadata": {},
   "outputs": [
    {
     "name": "stdout",
     "output_type": "stream",
     "text": [
      "['60138.14000000', '59973.99000000', '60070.20000000', '59851.09000000', '59706.39000000', '59794.03000000', '59769.11000000', '59914.00000000', '59876.00000000', '59981.99000000', '59885.26000000', '59786.00000000', '59810.00000000', '60024.01000000', '60036.00000000', '60006.97000000', '59993.03000000', '60025.95000000', '60235.22000000', '60238.01000000', '60155.93000000', '60117.99000000', '60160.00000000', '60164.01000000', '60196.00000000', '60069.99000000', '60016.00000000', '59991.30000000', '60000.51000000', '60104.39000000', '60189.98000000', '60279.52000000', '60335.41000000', '59950.05000000', '59814.07000000', '59971.09000000', '59878.22000000', '59795.99000000', '59651.69000000', '59430.31000000', '59132.00000000', '58666.36000000', '58607.07000000', '58263.99000000', '58575.09000000', '58352.00000000', '58670.00000000', '58707.43000000', '58911.10000000', '58924.98000000', '58636.54000000', '58749.99000000', '58663.99000000', '58527.99000000', '58497.10000000', '57604.00000000', '57881.69000000', '57809.98000000', '58176.01000000', '57896.00000000', '57943.99000000', '57687.99000000', '57995.50000000', '57970.01000000', '58213.99000000', '57630.01000000', '57896.00000000', '58115.52000000', '58060.00000000', '58246.01000000', '58642.76000000', '58488.00000000', '58695.39000000', '58792.00000000', '58966.48000000', '59236.00000000', '59080.99000000', '59381.10000000', '58966.00000000', '60265.17000000', '61135.50000000', '60873.86000000', '60958.37000000', '60540.17000000', '59967.99000000', '60120.00000000', '60334.07000000', '60240.01000000', '60313.99000000', '60240.00000000', '60114.00000000', '60352.00000000', '60509.99000000', '60429.99000000', '60241.07000000', '60453.99000000', '60428.01000000', '60198.05000000', '59654.77000000', '59907.49000000', '59846.00000000', '59978.24000000', '59508.50000000', '59487.60000000', '59429.18000000', '59915.26000000', '60013.01000000', '60629.79000000', '60057.99000000', '60230.01000000', '60199.46000000', '60684.78000000', '61759.99000000', '62226.00000000', '62005.99000000', '62204.32000000', '62117.99000000', '62082.00000000', '61990.42000000', '62020.60000000', '62093.99000000', '61932.00000000', '62272.01000000', '62320.01000000', '62645.44000000', '62924.07000000', '63035.98000000', '62935.83000000', '63154.04000000', '63556.92000000', '63709.22000000', '63628.00000000', '63251.99000000', '63016.74000000', '62879.76000000', '62940.01000000', '62947.99000000', '62756.40000000', '63037.99000000', '63125.01000000', '63742.16000000', '63843.81000000', '63809.99000000', '63795.33000000', '63524.80000000', '63298.91000000', '63468.00000000', '63664.00000000', '63440.00000000', '63417.45000000', '62836.46000000', '63037.53000000', '63153.99000000', '62872.50000000', '62704.00000000', '62865.45000000', '62809.13000000', '62814.00000000', '63116.03000000', '63180.24000000', '63201.05000000', '63174.00000000', '62836.98000000', '62917.11000000', '62889.57000000', '62860.00000000', '62908.82000000', '62999.98000000']\n"
     ]
    }
   ],
   "source": [
    "print(getSevenDayData())"
   ]
  },
  {
   "cell_type": "markdown",
   "metadata": {},
   "source": [
    "toplanan bilgiyi csv formatına çevirme kodu "
   ]
  },
  {
   "cell_type": "code",
   "execution_count": 16,
   "metadata": {},
   "outputs": [],
   "source": [
    "import csv\n",
    "\n",
    "data = getSevenDayData(28)\n",
    "\n",
    "\n",
    "with open(\"fourWeek.csv\", \"w\", newline=\"\") as file:\n",
    "    writer = csv.writer(file)\n",
    "    for item in data:\n",
    "        writer.writerow([item])"
   ]
  },
  {
   "cell_type": "markdown",
   "metadata": {},
   "source": [
    "csv bilgilerini numpy arraya çevirme kodu"
   ]
  },
  {
   "cell_type": "code",
   "execution_count": null,
   "metadata": {},
   "outputs": [],
   "source": [
    "!pip install numpy -q"
   ]
  },
  {
   "cell_type": "code",
   "execution_count": 13,
   "metadata": {},
   "outputs": [
    {
     "name": "stdout",
     "output_type": "stream",
     "text": [
      "60138.14\n",
      "60070.2\n",
      "59851.09\n"
     ]
    }
   ],
   "source": [
    "import numpy as np\n",
    "\n",
    "# Load CSV into numpy array\n",
    "array_from_csv = np.loadtxt(\"output.csv\", delimiter=\",\")\n",
    "\n",
    "print(array_from_csv[0])\n",
    "print(array_from_csv[2])\n",
    "print(array_from_csv[3])\n"
   ]
  },
  {
   "cell_type": "markdown",
   "metadata": {},
   "source": [
    "Colab kullanırken csvleri otomatik çekme kodu"
   ]
  },
  {
   "cell_type": "code",
   "execution_count": null,
   "metadata": {},
   "outputs": [],
   "source": []
  }
 ],
 "metadata": {
  "kernelspec": {
   "display_name": "base",
   "language": "python",
   "name": "python3"
  },
  "language_info": {
   "codemirror_mode": {
    "name": "ipython",
    "version": 3
   },
   "file_extension": ".py",
   "mimetype": "text/x-python",
   "name": "python",
   "nbconvert_exporter": "python",
   "pygments_lexer": "ipython3",
   "version": "3.12.3"
  }
 },
 "nbformat": 4,
 "nbformat_minor": 2
}
