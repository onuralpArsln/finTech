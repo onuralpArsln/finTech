{
  "cells": [
    {
      "cell_type": "markdown",
      "metadata": {
        "colab_type": "text",
        "id": "view-in-github"
      },
      "source": [
        "<a href=\"https://colab.research.google.com/github/onuralpArsln/finTech/blob/main/getDataFromBinanceWithoutAccount.ipynb\" target=\"_parent\"><img src=\"https://colab.research.google.com/assets/colab-badge.svg\" alt=\"Open In Colab\"/></a>"
      ]
    },
    {
      "cell_type": "markdown",
      "metadata": {
        "id": "-tbWd-Qp1hwb"
      },
      "source": [
        "<a href=\"https://colab.research.google.com/github/onuralpArsln/finTech/blob/main/getDataFromBinanceWithoutAccount.ipynb\" target=\"_parent\"><img src=\"https://colab.research.google.com/assets/colab-badge.svg\" alt=\"Open In Colab\"/></a>"
      ]
    },
    {
      "cell_type": "markdown",
      "metadata": {
        "id": "kmb1XoA81hwe"
      },
      "source": [
        "Gerekli Kütüphane yoksa yükle"
      ]
    },
    {
      "cell_type": "code",
      "execution_count": null,
      "metadata": {
        "colab": {
          "base_uri": "https://localhost:8080/"
        },
        "id": "f_UPPC3x1hwe",
        "outputId": "c78d2c9f-0faa-43de-82e9-52cc630c9c93"
      },
      "outputs": [
        {
          "name": "stdout",
          "output_type": "stream",
          "text": [
            "\u001b[?25l   \u001b[90m━━━━━━━━━━━━━━━━━━━━━━━━━━━━━━━━━━━━━━━━\u001b[0m \u001b[32m0.0/69.9 kB\u001b[0m \u001b[31m?\u001b[0m eta \u001b[36m-:--:--\u001b[0m\r\u001b[2K   \u001b[90m━━━━━━━━━━━━━━━━━━━━━━━━━━━━━━━━━━━━━━━━\u001b[0m \u001b[32m69.9/69.9 kB\u001b[0m \u001b[31m3.2 MB/s\u001b[0m eta \u001b[36m0:00:00\u001b[0m\n",
            "\u001b[?25h\u001b[?25l   \u001b[90m━━━━━━━━━━━━━━━━━━━━━━━━━━━━━━━━━━━━━━━━\u001b[0m \u001b[32m0.0/295.0 kB\u001b[0m \u001b[31m?\u001b[0m eta \u001b[36m-:--:--\u001b[0m\r\u001b[2K   \u001b[90m━━━━━━━━━━━━━━━━━━━━━━━━━━━━━━━━━━━━━━━━\u001b[0m \u001b[32m295.0/295.0 kB\u001b[0m \u001b[31m8.5 MB/s\u001b[0m eta \u001b[36m0:00:00\u001b[0m\n",
            "\u001b[2K   \u001b[90m━━━━━━━━━━━━━━━━━━━━━━━━━━━━━━━━━━━━━━━━\u001b[0m \u001b[32m2.1/2.1 MB\u001b[0m \u001b[31m27.3 MB/s\u001b[0m eta \u001b[36m0:00:00\u001b[0m\n",
            "\u001b[2K   \u001b[90m━━━━━━━━━━━━━━━━━━━━━━━━━━━━━━━━━━━━━━━━\u001b[0m \u001b[32m53.6/53.6 kB\u001b[0m \u001b[31m1.5 MB/s\u001b[0m eta \u001b[36m0:00:00\u001b[0m\n",
            "\u001b[2K   \u001b[90m━━━━━━━━━━━━━━━━━━━━━━━━━━━━━━━━━━━━━━━━\u001b[0m \u001b[32m164.1/164.1 kB\u001b[0m \u001b[31m12.7 MB/s\u001b[0m eta \u001b[36m0:00:00\u001b[0m\n",
            "\u001b[?25h"
          ]
        }
      ],
      "source": [
        "!pip install python-binance -q"
      ]
    },
    {
      "cell_type": "markdown",
      "metadata": {
        "id": "dkPlgyqR1hwf"
      },
      "source": [
        "Datayı hesap bilgilisi olmadan almak burası, ancak colabda çalışmama ihtimali yüksek bi sebepten dolayı colab istekleri yetkisiz gözüküyor"
      ]
    },
    {
      "cell_type": "code",
      "execution_count": 53,
      "metadata": {
        "id": "2NrXoUM41hwg"
      },
      "outputs": [],
      "source": [
        "import requests\n",
        "import time\n",
        "\n",
        "\n",
        "def getSevenDayData(lastDay=1):\n",
        "    url = 'https://api.binance.com/api/v3/klines'\n",
        "    current_time = int(time.time() * 1000)\n",
        "    startDay = current_time - ((lastDay+14) * 24 * 60 * 60 * 1000)\n",
        "    endDay = current_time - (lastDay * 24 * 60 * 60 * 1000)\n",
        "\n",
        "    params = {\n",
        "    'symbol': 'BTCUSDT',      # The trading pair you're interested in\n",
        "    'interval': '1h',         # 1-hour candlestick data (hourly prices)\n",
        "    'startTime': startDay,  # Data from 30 days ago\n",
        "    'endTime': endDay,    # Data until 20 days ago\n",
        "    }\n",
        "\n",
        "    response = requests.get(url, params=params)\n",
        "    data = response.json()\n",
        "\n",
        "    result=[]\n",
        "\n",
        "    for candle in data:\n",
        "        close_price = candle[4]\n",
        "        result.append(close_price)\n",
        "\n",
        "    return result\n",
        "\n",
        "\n"
      ]
    },
    {
      "cell_type": "markdown",
      "metadata": {
        "id": "bFoefWZQ1hwg"
      },
      "source": [
        "test et"
      ]
    },
    {
      "cell_type": "code",
      "execution_count": 2,
      "metadata": {
        "colab": {
          "base_uri": "https://localhost:8080/",
          "height": 263
        },
        "id": "DQ8ToKa11hwg",
        "outputId": "fac6fb23-81a0-47a9-aaf5-497a6555b786"
      },
      "outputs": [
        {
          "name": "stdout",
          "output_type": "stream",
          "text": [
            "['59851.09000000', '59706.39000000', '59794.03000000', '59769.11000000', '59914.00000000', '59876.00000000', '59981.99000000', '59885.26000000', '59786.00000000', '59810.00000000', '60024.01000000', '60036.00000000', '60006.97000000', '59993.03000000', '60025.95000000', '60235.22000000', '60238.01000000', '60155.93000000', '60117.99000000', '60160.00000000', '60164.01000000', '60196.00000000', '60069.99000000', '60016.00000000', '59991.30000000', '60000.51000000', '60104.39000000', '60189.98000000', '60279.52000000', '60335.41000000', '59950.05000000', '59814.07000000', '59971.09000000', '59878.22000000', '59795.99000000', '59651.69000000', '59430.31000000', '59132.00000000', '58666.36000000', '58607.07000000', '58263.99000000', '58575.09000000', '58352.00000000', '58670.00000000', '58707.43000000', '58911.10000000', '58924.98000000', '58636.54000000', '58749.99000000', '58663.99000000', '58527.99000000', '58497.10000000', '57604.00000000', '57881.69000000', '57809.98000000', '58176.01000000', '57896.00000000', '57943.99000000', '57687.99000000', '57995.50000000', '57970.01000000', '58213.99000000', '57630.01000000', '57896.00000000', '58115.52000000', '58060.00000000', '58246.01000000', '58642.76000000', '58488.00000000', '58695.39000000', '58792.00000000', '58966.48000000', '59236.00000000', '59080.99000000', '59381.10000000', '58966.00000000', '60265.17000000', '61135.50000000', '60873.86000000', '60958.37000000', '60540.17000000', '59967.99000000', '60120.00000000', '60334.07000000', '60240.01000000', '60313.99000000', '60240.00000000', '60114.00000000', '60352.00000000', '60509.99000000', '60429.99000000', '60241.07000000', '60453.99000000', '60428.01000000', '60198.05000000', '59654.77000000', '59907.49000000', '59846.00000000', '59978.24000000', '59508.50000000', '59487.60000000', '59429.18000000', '59915.26000000', '60013.01000000', '60629.79000000', '60057.99000000', '60230.01000000', '60199.46000000', '60684.78000000', '61759.99000000', '62226.00000000', '62005.99000000', '62204.32000000', '62117.99000000', '62082.00000000', '61990.42000000', '62020.60000000', '62093.99000000', '61932.00000000', '62272.01000000', '62320.01000000', '62645.44000000', '62924.07000000', '63035.98000000', '62935.83000000', '63154.04000000', '63556.92000000', '63709.22000000', '63628.00000000', '63251.99000000', '63016.74000000', '62879.76000000', '62940.01000000', '62947.99000000', '62756.40000000', '63037.99000000', '63125.01000000', '63742.16000000', '63843.81000000', '63809.99000000', '63795.33000000', '63524.80000000', '63298.91000000', '63468.00000000', '63664.00000000', '63440.00000000', '63417.45000000', '62836.46000000', '63037.53000000', '63153.99000000', '62872.50000000', '62704.00000000', '62865.45000000', '62809.13000000', '62814.00000000', '63116.03000000', '63180.24000000', '63201.05000000', '63174.00000000', '62836.98000000', '62917.11000000', '62889.57000000', '62860.00000000', '62908.82000000', '62999.98000000', '63091.02000000', '63028.00000000', '63115.99000000']\n"
          ]
        }
      ],
      "source": [
        "print(getSevenDayData())"
      ]
    },
    {
      "cell_type": "markdown",
      "metadata": {
        "id": "0OVq9WgG1hwh"
      },
      "source": [
        "toplanan bilgiyi csv formatına çevirme kodu"
      ]
    },
    {
      "cell_type": "code",
      "execution_count": 54,
      "metadata": {
        "id": "V_gwWAuX1hwh"
      },
      "outputs": [],
      "source": [
        "import csv\n",
        "\n",
        "import pandas as pd\n",
        "\n",
        "data = getSevenDayData(1)\n",
        "\n",
        "df = pd.DataFrame(data)\n",
        "\n",
        "df.to_csv('data/lastWeek.csv', index=False, header=False)"
      ]
    },
    {
      "cell_type": "markdown",
      "metadata": {
        "id": "S-bV7qDc1hwh"
      },
      "source": [
        "csv bilgilerini numpy arraya çevirme kodu"
      ]
    },
    {
      "cell_type": "code",
      "execution_count": 4,
      "metadata": {
        "id": "OIeMzsay1hwi"
      },
      "outputs": [],
      "source": [
        "!pip install numpy -q"
      ]
    },
    {
      "cell_type": "code",
      "execution_count": 61,
      "metadata": {
        "id": "0RriA9Zi1hwi",
        "outputId": "ebc93ac0-e654-4a69-f5f6-bf3c63aa2e9b"
      },
      "outputs": [
        {
          "data": {
            "text/html": [
              "<div>\n",
              "<style scoped>\n",
              "    .dataframe tbody tr th:only-of-type {\n",
              "        vertical-align: middle;\n",
              "    }\n",
              "\n",
              "    .dataframe tbody tr th {\n",
              "        vertical-align: top;\n",
              "    }\n",
              "\n",
              "    .dataframe thead th {\n",
              "        text-align: right;\n",
              "    }\n",
              "</style>\n",
              "<table border=\"1\" class=\"dataframe\">\n",
              "  <thead>\n",
              "    <tr style=\"text-align: right;\">\n",
              "      <th></th>\n",
              "      <th>0</th>\n",
              "    </tr>\n",
              "  </thead>\n",
              "  <tbody>\n",
              "    <tr>\n",
              "      <th>0</th>\n",
              "      <td>54326.00</td>\n",
              "    </tr>\n",
              "    <tr>\n",
              "      <th>1</th>\n",
              "      <td>54578.71</td>\n",
              "    </tr>\n",
              "    <tr>\n",
              "      <th>2</th>\n",
              "      <td>54546.99</td>\n",
              "    </tr>\n",
              "    <tr>\n",
              "      <th>3</th>\n",
              "      <td>54632.17</td>\n",
              "    </tr>\n",
              "    <tr>\n",
              "      <th>4</th>\n",
              "      <td>54780.00</td>\n",
              "    </tr>\n",
              "  </tbody>\n",
              "</table>\n",
              "</div>"
            ],
            "text/plain": [
              "          0\n",
              "0  54326.00\n",
              "1  54578.71\n",
              "2  54546.99\n",
              "3  54632.17\n",
              "4  54780.00"
            ]
          },
          "execution_count": 61,
          "metadata": {},
          "output_type": "execute_result"
        }
      ],
      "source": [
        "import numpy as np\n",
        "\n",
        "\n",
        "loaded_df = pd.read_csv(\"data/lastWeek.csv\", header=None)\n",
        "\n",
        "# regular python list \n",
        "loaded_array = loaded_df.values.tolist()\n",
        "\n",
        "# Convert DataFrame back to NumPy array\n",
        "loaded_numpy = loaded_df.to_numpy()\n",
        "\n",
        "loaded_df.head()\n"
      ]
    },
    {
      "cell_type": "markdown",
      "metadata": {
        "id": "kcATG5nl1hwi"
      },
      "source": [
        "Colab kullanırken csvleri otomatik çekme kodu"
      ]
    },
    {
      "cell_type": "code",
      "execution_count": 16,
      "metadata": {
        "id": "rlg4QJH41hwi"
      },
      "outputs": [],
      "source": [
        "## Güncel data linkleri <br> <br>\n",
        "\n",
        "file1 = \"https://raw.githubusercontent.com/onuralpArsln/finTech/refs/heads/main/data/lastWeek.csv?token=GHSAT0AAAAAACLQZ7SITTNWYGU4AFMRQCZ2ZXPXZZA\"\n",
        "file2 = \"https://raw.githubusercontent.com/onuralpArsln/finTech/refs/heads/main/data/twoWeek.csv?token=GHSAT0AAAAAACLQZ7SIAZ6M2GER76YGBQ4EZXPXZ3A\"\n",
        "file3 = \"https://raw.githubusercontent.com/onuralpArsln/finTech/refs/heads/main/data/fourWeek.csv?token=GHSAT0AAAAAACLQZ7SIZUNDS5LREKVI4BA4ZXPXY2Q\"\n",
        "\n",
        "allLinks =[file1, file2, file3]"
      ]
    },
    {
      "cell_type": "code",
      "execution_count": null,
      "metadata": {
        "id": "EowEMsth1hwi"
      },
      "outputs": [],
      "source": [
        "!pip install pandas -q"
      ]
    },
    {
      "cell_type": "code",
      "execution_count": 55,
      "metadata": {
        "colab": {
          "base_uri": "https://localhost:8080/"
        },
        "id": "tZL1FYpp1hwi",
        "outputId": "e2b9dfe4-bbd9-4e65-c302-8ba15ecd00bb"
      },
      "outputs": [],
      "source": [
        "import pandas as pd\n",
        "\n",
        "\n",
        "series_list=[]\n",
        "for url in allLinks:\n",
        "  df= pd.read_csv(url, header=None)\n",
        "  data=df.values.tolist()\n",
        "  single_dimensional_list = [item[0] for item in data]\n",
        "  series_list.append( single_dimensional_list)\n",
        "\n"
      ]
    },
    {
      "cell_type": "markdown",
      "metadata": {
        "id": "OIkDzA6o1hwj"
      },
      "source": [
        "linklerden elde edilen dataframeleri eğitim ve test olarak ayırcaz son 10 test datası şuan"
      ]
    },
    {
      "cell_type": "code",
      "execution_count": 56,
      "metadata": {
        "id": "rMFuI2V41hwj"
      },
      "outputs": [
        {
          "name": "stdout",
          "output_type": "stream",
          "text": [
            "[63174.0, 62836.98, 62917.11, 62889.57, 62860.0, 62908.82, 62999.98, 63091.02, 63028.0, 63115.99]\n"
          ]
        }
      ],
      "source": [
        "test_dfs=[]\n",
        "train_dfs=[]\n",
        "\n",
        "for series in series_list:\n",
        " \n",
        "    last_10 = series[-10:]\n",
        "  \n",
        "    rest = series[:-10]\n",
        "    # append to dataset\n",
        "    test_dfs.append(last_10)\n",
        "    train_dfs.append(rest)\n",
        "\n",
        "print(test_dfs[0])\n"
      ]
    },
    {
      "cell_type": "markdown",
      "metadata": {
        "id": "WJxixygt1hwj"
      },
      "source": [
        "## TRAINING TRAINING TRAINING\n",
        "\n",
        "\n",
        "Autoregressive Integrated Moving Average"
      ]
    },
    {
      "cell_type": "code",
      "execution_count": 28,
      "metadata": {
        "id": "Iug0V6gI1hwj"
      },
      "outputs": [],
      "source": [
        "!pip install statsmodels -q"
      ]
    },
    {
      "cell_type": "code",
      "execution_count": 57,
      "metadata": {
        "id": "KCVfO5WA1hwj"
      },
      "outputs": [],
      "source": [
        "import pandas as pd\n",
        "from statsmodels.tsa.arima.model import ARIMA\n",
        "\n",
        "\"\"\"\n",
        "# Örnek zaman serisi verisi\n",
        "data = [1,2,4,7]\n",
        "df = pd.Series(data)\n",
        "\n",
        "# ARIMA modeli\n",
        "model = ARIMA(df, order=(1,1,1))\n",
        "model_fit = model.fit()\n",
        "\n",
        "# Tahmin\n",
        "tahmin = model_fit.forecast(steps=1)\n",
        "print(tahmin)\n",
        "\"\"\"\n",
        "\n",
        "def ARIMAGuess(data, stepCount=10):\n",
        "    df = pd.Series(data)\n",
        "    model = ARIMA(df, order=(1, 1, 1))\n",
        "    model_fit = model.fit()\n",
        "    tahmin = model_fit.forecast(steps=stepCount)\n",
        "\n",
        "    return tahmin\n"
      ]
    },
    {
      "cell_type": "code",
      "execution_count": 58,
      "metadata": {
        "colab": {
          "base_uri": "https://localhost:8080/",
          "height": 349
        },
        "id": "xlASxwPx1hwj",
        "outputId": "725a0077-8a5f-41e8-94b6-a5d3787d60c2"
      },
      "outputs": [],
      "source": [
        "guess_list=[]\n",
        "\n",
        "for df in train_dfs:\n",
        "   \n",
        "    guess = ARIMAGuess(df,10)\n",
        "    guess_list.append(guess.tolist())\n",
        "\n",
        "\n",
        "\n"
      ]
    },
    {
      "cell_type": "code",
      "execution_count": 46,
      "metadata": {},
      "outputs": [
        {
          "name": "stdout",
          "output_type": "stream",
          "text": [
            "[63186.810522706925, 63200.90954198113, 63186.94959524973, 63200.771841248075, 63187.08593770454, 63200.63684367346, 63187.21960366483, 63200.50449619247, 63187.350645672, 63200.37474678196]\n"
          ]
        }
      ],
      "source": [
        "print(guess_list[0])"
      ]
    },
    {
      "cell_type": "code",
      "execution_count": 48,
      "metadata": {},
      "outputs": [],
      "source": [
        "!pip install matplotlib -q\n"
      ]
    },
    {
      "cell_type": "code",
      "execution_count": 59,
      "metadata": {},
      "outputs": [
        {
          "data": {
            "image/png": "[encoded data removed]",
            "text/plain": [
              "<Figure size 1000x500 with 1 Axes>"
            ]
          },
          "metadata": {},
          "output_type": "display_data"
        }
      ],
      "source": [
        "import matplotlib.pyplot as plt\n",
        "\n",
        "# Sample data\n",
        "list1 = guess_list[0]\n",
        "list2 = test_dfs[0]\n",
        "\n",
        "# Create a figure and axis\n",
        "plt.figure(figsize=(10, 5))\n",
        "\n",
        "# Plot both lists\n",
        "plt.plot(list1, label='Guess', marker='o')\n",
        "plt.plot(list2, label='actual Values', marker='x')\n",
        "\n",
        "# Add titles and labels\n",
        "plt.title('Comparison of Two Lists')\n",
        "plt.xlabel('Index')\n",
        "plt.ylabel('Values')\n",
        "\n",
        "# Add a legend\n",
        "plt.legend()\n",
        "\n",
        "# Show the plot\n",
        "plt.grid()\n",
        "plt.show()"
      ]
    }
  ],
  "metadata": {
    "colab": {
      "include_colab_link": true,
      "provenance": []
    },
    "kernelspec": {
      "display_name": "base",
      "language": "python",
      "name": "python3"
    },
    "language_info": {
      "codemirror_mode": {
        "name": "ipython",
        "version": 3
      },
      "file_extension": ".py",
      "mimetype": "text/x-python",
      "name": "python",
      "nbconvert_exporter": "python",
      "pygments_lexer": "ipython3",
      "version": "3.12.3"
    }
  },
  "nbformat": 4,
  "nbformat_minor": 0
}
