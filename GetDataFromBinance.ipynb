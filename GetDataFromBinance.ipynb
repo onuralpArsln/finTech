{
  "cells": [
    {
      "cell_type": "code",
      "execution_count": null,
      "metadata": {
        "colab": {
          "base_uri": "https://localhost:8080/"
        },
        "id": "as8mwggQHfC7",
        "outputId": "63f0c4b8-74ed-44d2-cdad-3f664622f53d"
      },
      "outputs": [
        {
          "name": "stdout",
          "output_type": "stream",
          "text": [
            "\u001b[2K     \u001b[90m━━━━━━━━━━━━━━━━━━━━━━━━━━━━━━━━━━━━━━━━\u001b[0m \u001b[32m48.2/48.2 kB\u001b[0m \u001b[31m1.9 MB/s\u001b[0m eta \u001b[36m0:00:00\u001b[0m\n",
            "\u001b[2K   \u001b[90m━━━━━━━━━━━━━━━━━━━━━━━━━━━━━━━━━━━━━━━━\u001b[0m \u001b[32m69.9/69.9 kB\u001b[0m \u001b[31m3.1 MB/s\u001b[0m eta \u001b[36m0:00:00\u001b[0m\n",
            "\u001b[2K   \u001b[90m━━━━━━━━━━━━━━━━━━━━━━━━━━━━━━━━━━━━━━━━\u001b[0m \u001b[32m1.2/1.2 MB\u001b[0m \u001b[31m9.4 MB/s\u001b[0m eta \u001b[36m0:00:00\u001b[0m\n",
            "\u001b[2K   \u001b[90m━━━━━━━━━━━━━━━━━━━━━━━━━━━━━━━━━━━━━━━━\u001b[0m \u001b[32m295.0/295.0 kB\u001b[0m \u001b[31m20.2 MB/s\u001b[0m eta \u001b[36m0:00:00\u001b[0m\n",
            "\u001b[2K   \u001b[90m━━━━━━━━━━━━━━━━━━━━━━━━━━━━━━━━━━━━━━━━\u001b[0m \u001b[32m2.1/2.1 MB\u001b[0m \u001b[31m38.0 MB/s\u001b[0m eta \u001b[36m0:00:00\u001b[0m\n",
            "\u001b[2K   \u001b[90m━━━━━━━━━━━━━━━━━━━━━━━━━━━━━━━━━━━━━━━━\u001b[0m \u001b[32m53.6/53.6 kB\u001b[0m \u001b[31m4.0 MB/s\u001b[0m eta \u001b[36m0:00:00\u001b[0m\n",
            "\u001b[2K   \u001b[90m━━━━━━━━━━━━━━━━━━━━━━━━━━━━━━━━━━━━━━━━\u001b[0m \u001b[32m157.3/157.3 kB\u001b[0m \u001b[31m12.2 MB/s\u001b[0m eta \u001b[36m0:00:00\u001b[0m\n",
            "\u001b[2K   \u001b[90m━━━━━━━━━━━━━━━━━━━━━━━━━━━━━━━━━━━━━━━━\u001b[0m \u001b[32m239.5/239.5 kB\u001b[0m \u001b[31m17.5 MB/s\u001b[0m eta \u001b[36m0:00:00\u001b[0m\n",
            "\u001b[2K   \u001b[90m━━━━━━━━━━━━━━━━━━━━━━━━━━━━━━━━━━━━━━━━\u001b[0m \u001b[32m124.6/124.6 kB\u001b[0m \u001b[31m9.2 MB/s\u001b[0m eta \u001b[36m0:00:00\u001b[0m\n",
            "\u001b[2K   \u001b[90m━━━━━━━━━━━━━━━━━━━━━━━━━━━━━━━━━━━━━━━━\u001b[0m \u001b[32m446.8/446.8 kB\u001b[0m \u001b[31m29.2 MB/s\u001b[0m eta \u001b[36m0:00:00\u001b[0m\n",
            "\u001b[?25h"
          ]
        }
      ],
      "source": [
        "!pip install python-binance -q"
      ]
    },
    {
      "cell_type": "code",
      "execution_count": null,
      "metadata": {
        "id": "WZR0mtrn1wo0"
      },
      "outputs": [],
      "source": [
        "from binance.client import Client\n",
        "from datetime import datetime, timedelta\n",
        "\n",
        "# Binance API anahtarları (API anahtarı almanıza gerek olmayabilir, eğer veri okumak istiyorsanız)\n",
        "api_key = 'W2PKXcaoc0dzanBfmXSz4nKF6FEnuk8IFZEYmEjF0bYScJGATEe2E1ZLUDvsXaIk'\n",
        "api_secret = 'XkjnQwD8GvfyQd7ZoqAsraDwwb8G3Sl0XXYrDrlNzAa97GQxc2Ts20HjK2CNc3ZH'\n",
        "\n",
        "# Binance client'ı başlatma\n",
        "client = Client(api_key, api_secret)\n",
        "\n",
        "# Şu anki tarih\n",
        "end_date = datetime.now()\n",
        "\n",
        "# 1 hafta önceki tarih\n",
        "start_date = end_date - timedelta(days=7)\n",
        "\n",
        "# Tarih formatlarını string'e çevirme (Binance API'nin kabul ettiği format)\n",
        "start_str = start_date.strftime(\"%d %b %Y %H:%M:%S\")\n",
        "end_str = end_date.strftime(\"%d %b %Y %H:%M:%S\")\n",
        "\n",
        "# BTC/USDT 1 saatlik klines (şamdan) verilerini çekme\n",
        "candles = client.get_historical_klines(\"BTCUSDT\", Client.KLINE_INTERVAL_1HOUR, start_str, end_str)\n",
        "\n",
        "# Verileri daha anlamlı hale getirmek için formatlama\n",
        "for candle in candles:\n",
        "    open_time = datetime.fromtimestamp(candle[0] / 1000)\n",
        "    open_price = candle[1]\n",
        "    high_price = candle[2]\n",
        "    low_price = candle[3]\n",
        "    close_price = candle[4]\n",
        "    volume = candle[5]\n",
        "    print(f\"Time: {open_time}, Open: {open_price}, High: {high_price}, Low: {low_price}, Close: {close_price}, Volume: {volume}\")\n"
      ]
    },
    {
      "cell_type": "code",
      "execution_count": null,
      "metadata": {
        "id": "2AgERE1qcz6m"
      },
      "outputs": [],
      "source": [
        "from binance.client import Client\n",
        "from datetime import datetime, timedelta\n",
        "\n",
        "# Binance API anahtarları (API anahtarı almanıza gerek olmayabilir, eğer veri okumak istiyorsanız)\n",
        "api_key = 'W2PKXcaoc0dzanBfmXSz4nKF6FEnuk8IFZEYmEjF0bYScJGATEe2E1ZLUDvsXaIk'\n",
        "api_secret = 'XkjnQwD8GvfyQd7ZoqAsraDwwb8G3Sl0XXYrDrlNzAa97GQxc2Ts20HjK2CNc3ZH'\n",
        "\n",
        "# Binance client'ı başlatma\n",
        "client = Client(api_key, api_secret)\n",
        "\n",
        "\n",
        "def getSevenDayData(int daysPrior=0):\n",
        "  end_date = datetime.now()- timedelta(days= daysPrior)\n",
        "  startDay = 7 + daysPrior\n",
        "  start_date = end_date - timedelta(days=startDay)\n",
        "  # Tarih formatlarını string'e çevirme (Binance API'nin kabul ettiği format)\n",
        "  start_str = start_date.strftime(\"%d %b %Y %H:%M:%S\")\n",
        "  end_str = end_date.strftime(\"%d %b %Y %H:%M:%S\")\n",
        "  candles = client.get_historical_klines(\"BTCUSDT\", Client.KLINE_INTERVAL_1HOUR, start_str, end_str)\n",
        "  return candles\n",
        "\n",
        "\n",
        "\n",
        "# Şu anki tarih\n",
        "end_date = datetime.now()\n",
        "\n",
        "# 1 hafta önceki tarih\n",
        "start_date = end_date - timedelta(days=7)\n",
        "\n",
        "# Tarih formatlarını string'e çevirme (Binance API'nin kabul ettiği format)\n",
        "start_str = start_date.strftime(\"%d %b %Y %H:%M:%S\")\n",
        "end_str = end_date.strftime(\"%d %b %Y %H:%M:%S\")\n",
        "\n",
        "# BTC/USDT 1 saatlik klines (şamdan) verilerini çekme\n",
        "candles = client.get_historical_klines(\"BTCUSDT\", Client.KLINE_INTERVAL_1HOUR, start_str, end_str)\n",
        "\n",
        "# Verileri daha anlamlı hale getirmek için formatlama\n",
        "for candle in candles:\n",
        "    open_time = datetime.fromtimestamp(candle[0] / 1000)\n",
        "    open_price = candle[1]\n",
        "    high_price = candle[2]\n",
        "    low_price = candle[3]\n",
        "    close_price = candle[4]\n",
        "    volume = candle[5]\n",
        "    print(f\"Time: {open_time}, Open: {open_price}, High: {high_price}, Low: {low_price}, Close: {close_price}, Volume: {volume}\")"
      ]
    }
  ],
  "metadata": {
    "accelerator": "TPU",
    "colab": {
      "gpuType": "V28",
      "provenance": []
    },
    "kernelspec": {
      "display_name": "Python 3",
      "name": "python3"
    },
    "language_info": {
      "name": "python",
      "version": "3.12.3"
    }
  },
  "nbformat": 4,
  "nbformat_minor": 0
}
