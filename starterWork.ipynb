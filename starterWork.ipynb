{
  "cells": [
    {
      "cell_type": "markdown",
      "metadata": {
        "colab_type": "text",
        "id": "view-in-github"
      },
      "source": [
        "<a href=\"https://colab.research.google.com/github/onuralpArsln/finTech/blob/main/staerWork.ipynb\" target=\"_parent\"><img src=\"https://colab.research.google.com/assets/colab-badge.svg\" alt=\"Open In Colab\"/></a>"
      ]
    },
    {
      "cell_type": "code",
      "execution_count": null,
      "metadata": {
        "colab": {
          "base_uri": "https://localhost:8080/"
        },
        "id": "as8mwggQHfC7",
        "outputId": "63f0c4b8-74ed-44d2-cdad-3f664622f53d"
      },
      "outputs": [
        {
          "name": "stdout",
          "output_type": "stream",
          "text": [
            "\u001b[2K     \u001b[90m━━━━━━━━━━━━━━━━━━━━━━━━━━━━━━━━━━━━━━━━\u001b[0m \u001b[32m48.2/48.2 kB\u001b[0m \u001b[31m1.9 MB/s\u001b[0m eta \u001b[36m0:00:00\u001b[0m\n",
            "\u001b[2K   \u001b[90m━━━━━━━━━━━━━━━━━━━━━━━━━━━━━━━━━━━━━━━━\u001b[0m \u001b[32m69.9/69.9 kB\u001b[0m \u001b[31m3.1 MB/s\u001b[0m eta \u001b[36m0:00:00\u001b[0m\n",
            "\u001b[2K   \u001b[90m━━━━━━━━━━━━━━━━━━━━━━━━━━━━━━━━━━━━━━━━\u001b[0m \u001b[32m1.2/1.2 MB\u001b[0m \u001b[31m9.4 MB/s\u001b[0m eta \u001b[36m0:00:00\u001b[0m\n",
            "\u001b[2K   \u001b[90m━━━━━━━━━━━━━━━━━━━━━━━━━━━━━━━━━━━━━━━━\u001b[0m \u001b[32m295.0/295.0 kB\u001b[0m \u001b[31m20.2 MB/s\u001b[0m eta \u001b[36m0:00:00\u001b[0m\n",
            "\u001b[2K   \u001b[90m━━━━━━━━━━━━━━━━━━━━━━━━━━━━━━━━━━━━━━━━\u001b[0m \u001b[32m2.1/2.1 MB\u001b[0m \u001b[31m38.0 MB/s\u001b[0m eta \u001b[36m0:00:00\u001b[0m\n",
            "\u001b[2K   \u001b[90m━━━━━━━━━━━━━━━━━━━━━━━━━━━━━━━━━━━━━━━━\u001b[0m \u001b[32m53.6/53.6 kB\u001b[0m \u001b[31m4.0 MB/s\u001b[0m eta \u001b[36m0:00:00\u001b[0m\n",
            "\u001b[2K   \u001b[90m━━━━━━━━━━━━━━━━━━━━━━━━━━━━━━━━━━━━━━━━\u001b[0m \u001b[32m157.3/157.3 kB\u001b[0m \u001b[31m12.2 MB/s\u001b[0m eta \u001b[36m0:00:00\u001b[0m\n",
            "\u001b[2K   \u001b[90m━━━━━━━━━━━━━━━━━━━━━━━━━━━━━━━━━━━━━━━━\u001b[0m \u001b[32m239.5/239.5 kB\u001b[0m \u001b[31m17.5 MB/s\u001b[0m eta \u001b[36m0:00:00\u001b[0m\n",
            "\u001b[2K   \u001b[90m━━━━━━━━━━━━━━━━━━━━━━━━━━━━━━━━━━━━━━━━\u001b[0m \u001b[32m124.6/124.6 kB\u001b[0m \u001b[31m9.2 MB/s\u001b[0m eta \u001b[36m0:00:00\u001b[0m\n",
            "\u001b[2K   \u001b[90m━━━━━━━━━━━━━━━━━━━━━━━━━━━━━━━━━━━━━━━━\u001b[0m \u001b[32m446.8/446.8 kB\u001b[0m \u001b[31m29.2 MB/s\u001b[0m eta \u001b[36m0:00:00\u001b[0m\n",
            "\u001b[?25h"
          ]
        }
      ],
      "source": [
        "!pip install python-binance -q"
      ]
    },
    {
      "cell_type": "code",
      "execution_count": null,
      "metadata": {
        "id": "WZR0mtrn1wo0"
      },
      "outputs": [],
      "source": [
        "from binance.client import Client\n",
        "from datetime import datetime, timedelta\n",
        "\n",
        "# Binance API anahtarları (API anahtarı almanıza gerek olmayabilir, eğer veri okumak istiyorsanız)\n",
        "api_key = 'W2PKXcaoc0dzanBfmXSz4nKF6FEnuk8IFZEYmEjF0bYScJGATEe2E1ZLUDvsXaIk'\n",
        "api_secret = 'XkjnQwD8GvfyQd7ZoqAsraDwwb8G3Sl0XXYrDrlNzAa97GQxc2Ts20HjK2CNc3ZH'\n",
        "\n",
        "# Binance client'ı başlatma\n",
        "client = Client(api_key, api_secret)\n",
        "\n",
        "# Şu anki tarih\n",
        "end_date = datetime.now()\n",
        "\n",
        "# 1 hafta önceki tarih\n",
        "start_date = end_date - timedelta(days=7)\n",
        "\n",
        "# Tarih formatlarını string'e çevirme (Binance API'nin kabul ettiği format)\n",
        "start_str = start_date.strftime(\"%d %b %Y %H:%M:%S\")\n",
        "end_str = end_date.strftime(\"%d %b %Y %H:%M:%S\")\n",
        "\n",
        "# BTC/USDT 1 saatlik klines (şamdan) verilerini çekme\n",
        "candles = client.get_historical_klines(\"BTCUSDT\", Client.KLINE_INTERVAL_1HOUR, start_str, end_str)\n",
        "\n",
        "# Verileri daha anlamlı hale getirmek için formatlama\n",
        "for candle in candles:\n",
        "    open_time = datetime.fromtimestamp(candle[0] / 1000)\n",
        "    open_price = candle[1]\n",
        "    high_price = candle[2]\n",
        "    low_price = candle[3]\n",
        "    close_price = candle[4]\n",
        "    volume = candle[5]\n",
        "    print(f\"Time: {open_time}, Open: {open_price}, High: {high_price}, Low: {low_price}, Close: {close_price}, Volume: {volume}\")\n"
      ]
    },
    {
      "cell_type": "code",
      "execution_count": null,
      "metadata": {
        "id": "2AgERE1qcz6m"
      },
      "outputs": [],
      "source": [
        "from binance.client import Client\n",
        "from datetime import datetime, timedelta\n",
        "\n",
        "# Binance API anahtarları (API anahtarı almanıza gerek olmayabilir, eğer veri okumak istiyorsanız)\n",
        "api_key = 'W2PKXcaoc0dzanBfmXSz4nKF6FEnuk8IFZEYmEjF0bYScJGATEe2E1ZLUDvsXaIk'\n",
        "api_secret = 'XkjnQwD8GvfyQd7ZoqAsraDwwb8G3Sl0XXYrDrlNzAa97GQxc2Ts20HjK2CNc3ZH'\n",
        "\n",
        "# Binance client'ı başlatma\n",
        "client = Client(api_key, api_secret)\n",
        "\n",
        "\n",
        "def getSevenDayData(int daysPrior=0):\n",
        "  end_date = datetime.now()- timedelta(days= daysPrior)\n",
        "  startDay = 7 + daysPrior\n",
        "  start_date = end_date - timedelta(days=startDay)\n",
        "  # Tarih formatlarını string'e çevirme (Binance API'nin kabul ettiği format)\n",
        "  start_str = start_date.strftime(\"%d %b %Y %H:%M:%S\")\n",
        "  end_str = end_date.strftime(\"%d %b %Y %H:%M:%S\")\n",
        "  candles = client.get_historical_klines(\"BTCUSDT\", Client.KLINE_INTERVAL_1HOUR, start_str, end_str)\n",
        "  return candles\n",
        "\n",
        "\n",
        "\n",
        "# Şu anki tarih\n",
        "end_date = datetime.now()\n",
        "\n",
        "# 1 hafta önceki tarih\n",
        "start_date = end_date - timedelta(days=7)\n",
        "\n",
        "# Tarih formatlarını string'e çevirme (Binance API'nin kabul ettiği format)\n",
        "start_str = start_date.strftime(\"%d %b %Y %H:%M:%S\")\n",
        "end_str = end_date.strftime(\"%d %b %Y %H:%M:%S\")\n",
        "\n",
        "# BTC/USDT 1 saatlik klines (şamdan) verilerini çekme\n",
        "candles = client.get_historical_klines(\"BTCUSDT\", Client.KLINE_INTERVAL_1HOUR, start_str, end_str)\n",
        "\n",
        "# Verileri daha anlamlı hale getirmek için formatlama\n",
        "for candle in candles:\n",
        "    open_time = datetime.fromtimestamp(candle[0] / 1000)\n",
        "    open_price = candle[1]\n",
        "    high_price = candle[2]\n",
        "    low_price = candle[3]\n",
        "    close_price = candle[4]\n",
        "    volume = candle[5]\n",
        "    print(f\"Time: {open_time}, Open: {open_price}, High: {high_price}, Low: {low_price}, Close: {close_price}, Volume: {volume}\")"
      ]
    },
    {
      "cell_type": "code",
      "execution_count": 1,
      "metadata": {},
      "outputs": [
        {
          "name": "stdout",
          "output_type": "stream",
          "text": [
            "Price of BTC/USDT: 63235.02000000\n"
          ]
        }
      ],
      "source": [
        "import requests\n",
        "\n",
        "# Public Binance API endpoint to get the latest price for a trading pair\n",
        "url = 'https://api.binance.com/api/v3/ticker/price'\n",
        "params = {\n",
        "    'symbol': 'BTCUSDT'  # Example: get the price of Bitcoin in USDT\n",
        "}\n",
        "\n",
        "response = requests.get(url, params=params)\n",
        "\n",
        "# Convert the response to JSON format\n",
        "data = response.json()\n",
        "\n",
        "# Print the latest price of BTC/USDT\n",
        "print(f\"Price of BTC/USDT: {data['price']}\")"
      ]
    },
    {
      "cell_type": "code",
      "execution_count": 2,
      "metadata": {},
      "outputs": [
        {
          "name": "stdout",
          "output_type": "stream",
          "text": [
            "[[1726923600000, '63151.98000000', '63225.00000000', '63036.92000000', '63188.00000000', '445.94814000', 1726927199999, '28149257.57393610', 60482, '210.95787000', '13316726.00618940', '0'], [1726927200000, '63188.00000000', '63300.00000000', '63138.54000000', '63300.00000000', '389.66677000', 1726930799999, '24636854.94766620', 59588, '217.34120000', '13743358.41629910', '0'], [1726930800000, '63300.00000000', '63306.00000000', '63061.97000000', '63167.98000000', '504.25226000', 1726934399999, '31856421.90811020', 64599, '186.65778000', '11789809.89991300', '0'], [1726934400000, '63167.98000000', '63232.00000000', '63086.00000000', '63215.13000000', '838.78946000', 1726937999999, '52976540.44168280', 61035, '374.11032000', '23630292.33240880', '0'], [1726938000000, '63215.13000000', '63247.00000000', '63176.41000000', '63247.00000000', '117.45370000', 1726941599999, '7425416.48312940', 9764, '79.11720000', '5001771.12044400', '0']]\n"
          ]
        }
      ],
      "source": [
        "url = 'https://api.binance.com/api/v3/klines'\n",
        "params = {\n",
        "    'symbol': 'BTCUSDT',\n",
        "    'interval': '1h',  # Get 1-hour candlesticks\n",
        "    'limit': 5  # Number of candlesticks to fetch\n",
        "}\n",
        "response = requests.get(url, params=params)\n",
        "print(response.json())"
      ]
    },
    {
      "cell_type": "markdown",
      "metadata": {},
      "source": [
        "Additional Notes:\n",
        "The returned data will include OHLCV values:\n",
        "Open price\n",
        "High price\n",
        "Low price\n",
        "Close price\n",
        "Volume (if needed)\n",
        "If you want more detailed intervals (e.g., hourly data over the last week), just change the interval parameter to 1h and adjust the limit accordingly.\n",
        "\n",
        "Available Intervals:\n",
        "1m, 3m, 5m, 15m, 30m – for minutes.\n",
        "1h, 2h, 4h, 6h, 8h, 12h – for hours.\n",
        "1d, 3d – for days.\n",
        "1w, 1M – for weeks and months."
      ]
    },
    {
      "cell_type": "code",
      "execution_count": 3,
      "metadata": {},
      "outputs": [
        {
          "name": "stdout",
          "output_type": "stream",
          "text": [
            "Date: 2024-08-23, Open: 60375.83000000, High: 64955.00000000, Low: 60342.14000000, Close: 64037.24000000\n",
            "Date: 2024-08-24, Open: 64037.24000000, High: 64494.50000000, Low: 63531.00000000, Close: 64157.01000000\n",
            "Date: 2024-08-25, Open: 64157.02000000, High: 65000.00000000, Low: 63773.27000000, Close: 64220.00000000\n",
            "Date: 2024-08-26, Open: 64219.99000000, High: 64481.00000000, Low: 62800.00000000, Close: 62834.00000000\n",
            "Date: 2024-08-27, Open: 62834.00000000, High: 63212.00000000, Low: 58034.01000000, Close: 59415.00000000\n",
            "Date: 2024-08-28, Open: 59415.00000000, High: 60234.98000000, Low: 57860.00000000, Close: 59034.90000000\n",
            "Date: 2024-08-29, Open: 59034.90000000, High: 61166.99000000, Low: 58713.09000000, Close: 59359.01000000\n",
            "Date: 2024-08-30, Open: 59359.00000000, High: 59944.07000000, Low: 57701.10000000, Close: 59123.99000000\n",
            "Date: 2024-08-31, Open: 59123.99000000, High: 59462.38000000, Low: 58744.00000000, Close: 58973.99000000\n",
            "Date: 2024-09-01, Open: 58974.00000000, High: 59076.59000000, Low: 57201.00000000, Close: 57301.86000000\n"
          ]
        }
      ],
      "source": [
        "import requests\n",
        "import time\n",
        "\n",
        "# Binance endpoint for candlestick data\n",
        "url = 'https://api.binance.com/api/v3/klines'\n",
        "\n",
        "# Get the current time in UNIX timestamp (milliseconds)\n",
        "current_time = int(time.time() * 1000)\n",
        "\n",
        "# Calculate 30 days ago and 20 days ago in UNIX timestamp (milliseconds)\n",
        "thirty_days_ago = current_time - (30 * 24 * 60 * 60 * 1000)\n",
        "twenty_days_ago = current_time - (20 * 24 * 60 * 60 * 1000)\n",
        "\n",
        "# Set the parameters for candlestick data with a specific time range\n",
        "params = {\n",
        "    'symbol': 'BTCUSDT',      # The trading pair you're interested in\n",
        "    'interval': '1d',         # 1-day candlestick data (daily prices)\n",
        "    'startTime': thirty_days_ago,  # Data from 30 days ago\n",
        "    'endTime': twenty_days_ago,    # Data until 20 days ago\n",
        "}\n",
        "\n",
        "# Make the request\n",
        "response = requests.get(url, params=params)\n",
        "data = response.json()\n",
        "\n",
        "# Print the data from 30 to 20 days ago\n",
        "for candle in data:\n",
        "    timestamp = candle[0]\n",
        "    open_price = candle[1]\n",
        "    high_price = candle[2]\n",
        "    low_price = candle[3]\n",
        "    close_price = candle[4]\n",
        "    \n",
        "    # Convert timestamp to human-readable date\n",
        "    date = time.strftime('%Y-%m-%d', time.gmtime(timestamp / 1000))\n",
        "    \n",
        "    print(f\"Date: {date}, Open: {open_price}, High: {high_price}, Low: {low_price}, Close: {close_price}\")\n"
      ]
    }
  ],
  "metadata": {
    "accelerator": "TPU",
    "colab": {
      "gpuType": "V28",
      "include_colab_link": true,
      "provenance": []
    },
    "kernelspec": {
      "display_name": "Python 3",
      "name": "python3"
    },
    "language_info": {
      "codemirror_mode": {
        "name": "ipython",
        "version": 3
      },
      "file_extension": ".py",
      "mimetype": "text/x-python",
      "name": "python",
      "nbconvert_exporter": "python",
      "pygments_lexer": "ipython3",
      "version": "3.12.3"
    }
  },
  "nbformat": 4,
  "nbformat_minor": 0
}
